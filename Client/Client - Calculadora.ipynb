{
 "cells": [
  {
   "cell_type": "markdown",
   "id": "85a8041e",
   "metadata": {},
   "source": [
    "# Calculadora Científica\n",
    "\n",
    "Nesta calculadora, você encontrará as seguintes operações, e entre parênteses o nome que deve ser inserido no campo \"operacao\"\n",
    "\n",
    "- Soma (soma)\n",
    "- Subtração (subtracao)\n",
    "- Divisão (divisao)\n",
    "- Multiplicação (multiplicacao)\n",
    "- Potência (eleva) ------------------> **Cálculo feito: x (\"valor1\") elevado a y (\"valor2\")\n",
    "- Raiz Quadrada (raiz) ------------> **O campo \"valor2\" deve ser preenchido com 0\n",
    "- Fatorial (fatorial) ------------------> **O campo \"valor2\" deve ser preenchido com 0\n",
    "- Função Logarítmica (log) -------> **O campo \"valor2\" corresponde base\n",
    "- Seno (seno) -----------------------> **O campo \"valor2\" deve ser preenchido com 0\n",
    "- Cosseno (cosseno) --------------> **O campo \"valor2\" deve ser preenchido com 0\n",
    "- Tangente (tangente) -------------> **O campo \"valor2\" deve ser preenchido com 0"
   ]
  },
  {
   "cell_type": "code",
   "execution_count": 1,
   "id": "9129cac4",
   "metadata": {},
   "outputs": [
    {
     "name": "stdout",
     "output_type": "stream",
     "text": [
      "fatorial\n"
     ]
    }
   ],
   "source": [
    "operacao = input()"
   ]
  },
  {
   "cell_type": "code",
   "execution_count": 2,
   "id": "67b21cb7",
   "metadata": {},
   "outputs": [
    {
     "name": "stdout",
     "output_type": "stream",
     "text": [
      "5\n"
     ]
    }
   ],
   "source": [
    "valor1 = input()"
   ]
  },
  {
   "cell_type": "code",
   "execution_count": 3,
   "id": "010eaa83",
   "metadata": {},
   "outputs": [
    {
     "name": "stdout",
     "output_type": "stream",
     "text": [
      "0\n"
     ]
    }
   ],
   "source": [
    "valor2 = input()"
   ]
  },
  {
   "cell_type": "code",
   "execution_count": 4,
   "id": "6628cae9",
   "metadata": {},
   "outputs": [
    {
     "name": "stdout",
     "output_type": "stream",
     "text": [
      "120\n"
     ]
    }
   ],
   "source": [
    "import requests\n",
    "\n",
    "link = f'http://localhost:5000/{operacao}?valor1={valor1}&valor2={valor2}'\n",
    "requisicao = requests.get(link)\n",
    "\n",
    "print (requisicao.json()) "
   ]
  }
 ],
 "metadata": {
  "kernelspec": {
   "display_name": "Python 3 (ipykernel)",
   "language": "python",
   "name": "python3"
  },
  "language_info": {
   "codemirror_mode": {
    "name": "ipython",
    "version": 3
   },
   "file_extension": ".py",
   "mimetype": "text/x-python",
   "name": "python",
   "nbconvert_exporter": "python",
   "pygments_lexer": "ipython3",
   "version": "3.9.7"
  }
 },
 "nbformat": 4,
 "nbformat_minor": 5
}
